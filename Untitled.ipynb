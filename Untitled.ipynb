{
 "cells": [
  {
   "cell_type": "code",
   "execution_count": 3,
   "metadata": {},
   "outputs": [],
   "source": [
    "from datascience import Table\n"
   ]
  },
  {
   "cell_type": "code",
   "execution_count": 4,
   "id": "611667b2",
   "metadata": {},
   "outputs": [
    {
     "data": {
      "text/html": [
       "<table border=\"1\" class=\"dataframe\">\n",
       "    <thead>\n",
       "        <tr>\n",
       "            <th>Unnamed: 0</th> <th>carat</th> <th>cut</th> <th>color</th> <th>clarity</th> <th>depth</th> <th>table</th> <th>price</th> <th>x</th> <th>y</th> <th>z</th>\n",
       "        </tr>\n",
       "    </thead>\n",
       "    <tbody>\n",
       "        <tr>\n",
       "            <td>1         </td> <td>0.23 </td> <td>Ideal  </td> <td>E    </td> <td>SI2    </td> <td>61.5 </td> <td>55   </td> <td>326  </td> <td>3.95</td> <td>3.98</td> <td>2.43</td>\n",
       "        </tr>\n",
       "        <tr>\n",
       "            <td>2         </td> <td>0.21 </td> <td>Premium</td> <td>E    </td> <td>SI1    </td> <td>59.8 </td> <td>61   </td> <td>326  </td> <td>3.89</td> <td>3.84</td> <td>2.31</td>\n",
       "        </tr>\n",
       "        <tr>\n",
       "            <td>3         </td> <td>0.23 </td> <td>Good   </td> <td>E    </td> <td>VS1    </td> <td>56.9 </td> <td>65   </td> <td>327  </td> <td>4.05</td> <td>4.07</td> <td>2.31</td>\n",
       "        </tr>\n",
       "        <tr>\n",
       "            <td>4         </td> <td>0.29 </td> <td>Premium</td> <td>I    </td> <td>VS2    </td> <td>62.4 </td> <td>58   </td> <td>334  </td> <td>4.2 </td> <td>4.23</td> <td>2.63</td>\n",
       "        </tr>\n",
       "        <tr>\n",
       "            <td>5         </td> <td>0.31 </td> <td>Good   </td> <td>J    </td> <td>SI2    </td> <td>63.3 </td> <td>58   </td> <td>335  </td> <td>4.34</td> <td>4.35</td> <td>2.75</td>\n",
       "        </tr>\n",
       "    </tbody>\n",
       "</table>\n",
       "<p>... (53935 rows omitted)</p>"
      ],
      "text/plain": [
       "<IPython.core.display.HTML object>"
      ]
     },
     "metadata": {},
     "output_type": "display_data"
    },
    {
     "data": {
      "text/plain": [
       "None"
      ]
     },
     "metadata": {},
     "output_type": "display_data"
    }
   ],
   "source": [
    "from IPython.display import display\n",
    "table = Table.read_table(\"diamonds.csv\")\n",
    "\n",
    "display(table.show(5))"
   ]
  },
  {
   "cell_type": "code",
   "execution_count": 5,
   "id": "ec64963d",
   "metadata": {},
   "outputs": [
    {
     "name": "stdout",
     "output_type": "stream",
     "text": [
      "hi\n"
     ]
    }
   ],
   "source": [
    "print(\"hi\")"
   ]
  },
  {
   "cell_type": "code",
   "execution_count": 6,
   "id": "415b9c94",
   "metadata": {},
   "outputs": [
    {
     "data": {
      "text/html": [
       "<table border=\"1\" class=\"dataframe\">\n",
       "    <thead>\n",
       "        <tr>\n",
       "            <th>Unnamed: 0</th> <th>carat</th> <th>cut</th> <th>color</th> <th>clarity</th> <th>depth</th> <th>table</th> <th>price</th> <th>x</th> <th>y</th> <th>z</th>\n",
       "        </tr>\n",
       "    </thead>\n",
       "    <tbody>\n",
       "        <tr>\n",
       "            <td>1         </td> <td>0.23 </td> <td>Ideal  </td> <td>E    </td> <td>SI2    </td> <td>61.5 </td> <td>55   </td> <td>326  </td> <td>3.95</td> <td>3.98</td> <td>2.43</td>\n",
       "        </tr>\n",
       "        <tr>\n",
       "            <td>2         </td> <td>0.21 </td> <td>Premium</td> <td>E    </td> <td>SI1    </td> <td>59.8 </td> <td>61   </td> <td>326  </td> <td>3.89</td> <td>3.84</td> <td>2.31</td>\n",
       "        </tr>\n",
       "        <tr>\n",
       "            <td>3         </td> <td>0.23 </td> <td>Good   </td> <td>E    </td> <td>VS1    </td> <td>56.9 </td> <td>65   </td> <td>327  </td> <td>4.05</td> <td>4.07</td> <td>2.31</td>\n",
       "        </tr>\n",
       "        <tr>\n",
       "            <td>4         </td> <td>0.29 </td> <td>Premium</td> <td>I    </td> <td>VS2    </td> <td>62.4 </td> <td>58   </td> <td>334  </td> <td>4.2 </td> <td>4.23</td> <td>2.63</td>\n",
       "        </tr>\n",
       "        <tr>\n",
       "            <td>5         </td> <td>0.31 </td> <td>Good   </td> <td>J    </td> <td>SI2    </td> <td>63.3 </td> <td>58   </td> <td>335  </td> <td>4.34</td> <td>4.35</td> <td>2.75</td>\n",
       "        </tr>\n",
       "    </tbody>\n",
       "</table>\n",
       "<p>... (53935 rows omitted)</p>"
      ],
      "text/plain": [
       "<IPython.core.display.HTML object>"
      ]
     },
     "metadata": {},
     "output_type": "display_data"
    },
    {
     "data": {
      "text/plain": [
       "None"
      ]
     },
     "metadata": {},
     "output_type": "display_data"
    }
   ],
   "source": [
    "display(table.show(5))"
   ]
  },
  {
   "cell_type": "code",
   "execution_count": null,
   "id": "1c0171a0",
   "metadata": {},
   "outputs": [],
   "source": []
  }
 ],
 "metadata": {
  "kernelspec": {
   "display_name": "Python 3",
   "language": "python",
   "name": "python3"
  },
  "language_info": {
   "codemirror_mode": {
    "name": "ipython",
    "version": 3
   },
   "file_extension": ".py",
   "mimetype": "text/x-python",
   "name": "python",
   "nbconvert_exporter": "python",
   "pygments_lexer": "ipython3",
   "version": "3.12.2"
  }
 },
 "nbformat": 4,
 "nbformat_minor": 5
}
